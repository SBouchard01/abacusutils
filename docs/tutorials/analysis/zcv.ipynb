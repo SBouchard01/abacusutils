{
 "cells": [
  {
   "cell_type": "markdown",
   "metadata": {},
   "source": [
    "The first step in applying the Zel'dovich Control Variates (ZCV) is running the \"preparation steps\".\n",
    "\n",
    "1. Save the window function (given k-binning) and the Zel'dovich theoretical prediction (given k-binning and redshift):\n",
    "\n",
    "`python -m abacusnbody.hod.zcv.zenbu_window --path2config $1 --alt_simname $2`\n",
    "\n",
    "2. Save the initial conditions fields (delta, delta^2, s^2, nabla^2):\n",
    "\n",
    "`python -m abacusnbody.hod.zcv.ic_fields --path2config $1 --alt_simname $2`\n",
    "\n",
    "3. Save the advected fields and their power spectra at this redshift\n",
    "\n",
    "    - When applying ZCV to the power spectrum multipoles:\n",
    "\n",
    "        - Run this version if planning to use mocks with and without RSD effects:\n",
    "\n",
    "        `python -m abacusnbody.hod.zcv.advect_fields --path2config $1 --want_rsd --alt_simname $2`\n",
    "\n",
    "        - Run this version if not planning to use mocks with RSD effects:\n",
    "\n",
    "        `python -m abacusnbody.hod.zcv.advect_fields --path2config $1 --alt_simname $2`\n",
    "\n",
    "    - When applying ZCV to the correlation function multipoles:\n",
    "\n",
    "        - Run this version if planning to use mocks with and without RSD effects:\n",
    "\n",
    "        `python -m abacusnbody.hod.zcv.advect_fields --path2config $1 --want_rsd --alt_simname $2 --save_3D_power`\n",
    "\n",
    "        - Run this version if not planning to use mocks with RSD effects:\n",
    "\n",
    "        `python -m abacusnbody.hod.zcv.advect_fields --path2config $1 --alt_simname $2 --save_3D_power`\n",
    "        \n",
    "An example `yaml` configuration file can be found in the `config/` directory, `lrg_hod_base_z0.500_nmesh576.yaml`. Note that the `--alt_simname` argument is optional and only needed if the user wants to use a different simulation from the one specified in the `yaml` file.\n"
   ]
  },
  {
   "cell_type": "code",
   "execution_count": 8,
   "metadata": {},
   "outputs": [
    {
     "ename": "ModuleNotFoundError",
     "evalue": "No module named 'yaml'",
     "output_type": "error",
     "traceback": [
      "\u001b[0;31m---------------------------------------------------------------------------\u001b[0m",
      "\u001b[0;31mModuleNotFoundError\u001b[0m                       Traceback (most recent call last)",
      "\u001b[0;32m<ipython-input-8-11aaa919a8a2>\u001b[0m in \u001b[0;36m<module>\u001b[0;34m()\u001b[0m\n\u001b[1;32m      4\u001b[0m \u001b[0;32mimport\u001b[0m \u001b[0mnumpy\u001b[0m \u001b[0;32mas\u001b[0m \u001b[0mnp\u001b[0m\u001b[0;34m\u001b[0m\u001b[0;34m\u001b[0m\u001b[0m\n\u001b[1;32m      5\u001b[0m \u001b[0;32mimport\u001b[0m \u001b[0mmatplotlib\u001b[0m\u001b[0;34m.\u001b[0m\u001b[0mpyplot\u001b[0m \u001b[0;32mas\u001b[0m \u001b[0mplt\u001b[0m\u001b[0;34m\u001b[0m\u001b[0;34m\u001b[0m\u001b[0m\n\u001b[0;32m----> 6\u001b[0;31m \u001b[0;32mimport\u001b[0m \u001b[0myaml\u001b[0m\u001b[0;34m\u001b[0m\u001b[0;34m\u001b[0m\u001b[0m\n\u001b[0m\u001b[1;32m      7\u001b[0m \u001b[0;34m\u001b[0m\u001b[0m\n\u001b[1;32m      8\u001b[0m \u001b[0;32mfrom\u001b[0m \u001b[0mabacusnbody\u001b[0m\u001b[0;34m.\u001b[0m\u001b[0mhod\u001b[0m\u001b[0;34m.\u001b[0m\u001b[0mabacus_hod\u001b[0m \u001b[0;32mimport\u001b[0m \u001b[0mAbacusHOD\u001b[0m\u001b[0;34m\u001b[0m\u001b[0;34m\u001b[0m\u001b[0m\n",
      "\u001b[0;31mModuleNotFoundError\u001b[0m: No module named 'yaml'"
     ]
    }
   ],
   "source": [
    "# Load necessary packages\n",
    "import os\n",
    "\n",
    "import numpy as np\n",
    "import matplotlib.pyplot as plt\n",
    "import yaml\n",
    "\n",
    "from abacusnbody.hod.abacus_hod import AbacusHOD\n"
   ]
  },
  {
   "cell_type": "code",
   "execution_count": 2,
   "metadata": {},
   "outputs": [],
   "source": [
    "# Whether to use the last computed tracer power spectra (saves time)\n",
    "load_presaved = False"
   ]
  },
  {
   "cell_type": "code",
   "execution_count": 3,
   "metadata": {},
   "outputs": [
    {
     "ename": "NameError",
     "evalue": "name 'yaml' is not defined",
     "output_type": "error",
     "traceback": [
      "\u001b[0;31m---------------------------------------------------------------------------\u001b[0m",
      "\u001b[0;31mNameError\u001b[0m                                 Traceback (most recent call last)",
      "\u001b[0;32m<ipython-input-3-486ac3a6c187>\u001b[0m in \u001b[0;36m<module>\u001b[0;34m()\u001b[0m\n\u001b[1;32m      3\u001b[0m \u001b[0;34m\u001b[0m\u001b[0m\n\u001b[1;32m      4\u001b[0m \u001b[0;31m# Read the parameters from the yaml file\u001b[0m\u001b[0;34m\u001b[0m\u001b[0;34m\u001b[0m\u001b[0;34m\u001b[0m\u001b[0m\n\u001b[0;32m----> 5\u001b[0;31m \u001b[0mconfig\u001b[0m \u001b[0;34m=\u001b[0m \u001b[0myaml\u001b[0m\u001b[0;34m.\u001b[0m\u001b[0msafe_load\u001b[0m\u001b[0;34m(\u001b[0m\u001b[0mopen\u001b[0m\u001b[0;34m(\u001b[0m\u001b[0mpath2config\u001b[0m\u001b[0;34m)\u001b[0m\u001b[0;34m)\u001b[0m\u001b[0;34m\u001b[0m\u001b[0;34m\u001b[0m\u001b[0m\n\u001b[0m\u001b[1;32m      6\u001b[0m \u001b[0msim_params\u001b[0m \u001b[0;34m=\u001b[0m \u001b[0mconfig\u001b[0m\u001b[0;34m[\u001b[0m\u001b[0;34m'sim_params'\u001b[0m\u001b[0;34m]\u001b[0m\u001b[0;34m\u001b[0m\u001b[0;34m\u001b[0m\u001b[0m\n\u001b[1;32m      7\u001b[0m \u001b[0mHOD_params\u001b[0m \u001b[0;34m=\u001b[0m \u001b[0mconfig\u001b[0m\u001b[0;34m[\u001b[0m\u001b[0;34m'HOD_params'\u001b[0m\u001b[0;34m]\u001b[0m\u001b[0;34m\u001b[0m\u001b[0;34m\u001b[0m\u001b[0m\n",
      "\u001b[0;31mNameError\u001b[0m: name 'yaml' is not defined"
     ]
    }
   ],
   "source": [
    "# Load the config file and parse in relevant parameters\n",
    "path2config = \"config/lrg_hod_base_z0.500_nmesh576.yaml\"\n",
    "\n",
    "# Read the parameters from the yaml file\n",
    "config = yaml.safe_load(open(path2config))\n",
    "sim_params = config['sim_params']\n",
    "HOD_params = config['HOD_params']\n",
    "clustering_params = config['clustering_params']\n",
    "zcv_params = config['zcv_params']\n",
    "\n",
    "# Additional parameter choices\n",
    "want_rsd = HOD_params['want_rsd']\n",
    "write_to_disk = HOD_params['write_to_disk']\n",
    "z_mock = sim_params['z_mock']\n",
    "sim_name = sim_params['sim_name']\n",
    "nmesh = zcv_params['nmesh']"
   ]
  },
  {
   "cell_type": "code",
   "execution_count": 4,
   "metadata": {},
   "outputs": [
    {
     "ename": "NameError",
     "evalue": "name 'AbacusHOD' is not defined",
     "output_type": "error",
     "traceback": [
      "\u001b[0;31m---------------------------------------------------------------------------\u001b[0m",
      "\u001b[0;31mNameError\u001b[0m                                 Traceback (most recent call last)",
      "\u001b[0;32m<ipython-input-4-7f21b1384819>\u001b[0m in \u001b[0;36m<module>\u001b[0;34m()\u001b[0m\n\u001b[1;32m      1\u001b[0m \u001b[0;31m# Run hod\u001b[0m\u001b[0;34m\u001b[0m\u001b[0;34m\u001b[0m\u001b[0;34m\u001b[0m\u001b[0m\n\u001b[0;32m----> 2\u001b[0;31m \u001b[0mnewBall\u001b[0m \u001b[0;34m=\u001b[0m \u001b[0mAbacusHOD\u001b[0m\u001b[0;34m(\u001b[0m\u001b[0msim_params\u001b[0m\u001b[0;34m,\u001b[0m \u001b[0mHOD_params\u001b[0m\u001b[0;34m,\u001b[0m \u001b[0mclustering_params\u001b[0m\u001b[0;34m)\u001b[0m\u001b[0;34m\u001b[0m\u001b[0;34m\u001b[0m\u001b[0m\n\u001b[0m\u001b[1;32m      3\u001b[0m \u001b[0mmock_dict\u001b[0m \u001b[0;34m=\u001b[0m \u001b[0mnewBall\u001b[0m\u001b[0;34m.\u001b[0m\u001b[0mrun_hod\u001b[0m\u001b[0;34m(\u001b[0m\u001b[0mnewBall\u001b[0m\u001b[0;34m.\u001b[0m\u001b[0mtracers\u001b[0m\u001b[0;34m,\u001b[0m \u001b[0mwant_rsd\u001b[0m\u001b[0;34m,\u001b[0m \u001b[0mwrite_to_disk\u001b[0m\u001b[0;34m,\u001b[0m \u001b[0mNthread\u001b[0m\u001b[0;34m=\u001b[0m\u001b[0;36m16\u001b[0m\u001b[0;34m)\u001b[0m\u001b[0;34m\u001b[0m\u001b[0;34m\u001b[0m\u001b[0m\n\u001b[1;32m      4\u001b[0m \u001b[0mnobj\u001b[0m \u001b[0;34m=\u001b[0m \u001b[0mmock_dict\u001b[0m\u001b[0;34m[\u001b[0m\u001b[0;34m'LRG'\u001b[0m\u001b[0;34m]\u001b[0m\u001b[0;34m[\u001b[0m\u001b[0;34m'mass'\u001b[0m\u001b[0;34m]\u001b[0m\u001b[0;34m.\u001b[0m\u001b[0msize\u001b[0m\u001b[0;34m\u001b[0m\u001b[0;34m\u001b[0m\u001b[0m\n\u001b[1;32m      5\u001b[0m \u001b[0mprint\u001b[0m\u001b[0;34m(\u001b[0m\u001b[0;34m\"number of galaxies\"\u001b[0m\u001b[0;34m,\u001b[0m \u001b[0mnobj\u001b[0m\u001b[0;34m)\u001b[0m\u001b[0;34m\u001b[0m\u001b[0;34m\u001b[0m\u001b[0m\n",
      "\u001b[0;31mNameError\u001b[0m: name 'AbacusHOD' is not defined"
     ]
    }
   ],
   "source": [
    "# Run hod\n",
    "newBall = AbacusHOD(sim_params, HOD_params, clustering_params)\n",
    "mock_dict = newBall.run_hod(newBall.tracers, want_rsd, write_to_disk, Nthread=16)\n",
    "nobj = mock_dict['LRG']['mass'].size\n",
    "print(\"number of galaxies\", nobj)"
   ]
  },
  {
   "cell_type": "code",
   "execution_count": 5,
   "metadata": {},
   "outputs": [
    {
     "ename": "NameError",
     "evalue": "name 'newBall' is not defined",
     "output_type": "error",
     "traceback": [
      "\u001b[0;31m---------------------------------------------------------------------------\u001b[0m",
      "\u001b[0;31mNameError\u001b[0m                                 Traceback (most recent call last)",
      "\u001b[0;32m<ipython-input-5-8dd47db440c9>\u001b[0m in \u001b[0;36m<module>\u001b[0;34m()\u001b[0m\n\u001b[1;32m      1\u001b[0m \u001b[0;31m# Run zcv on the correlation function multipoles\u001b[0m\u001b[0;34m\u001b[0m\u001b[0;34m\u001b[0m\u001b[0;34m\u001b[0m\u001b[0m\n\u001b[0;32m----> 2\u001b[0;31m \u001b[0mzcv_dict\u001b[0m \u001b[0;34m=\u001b[0m \u001b[0mnewBall\u001b[0m\u001b[0;34m.\u001b[0m\u001b[0mapply_zcv_xi\u001b[0m\u001b[0;34m(\u001b[0m\u001b[0mmock_dict\u001b[0m\u001b[0;34m,\u001b[0m \u001b[0mconfig\u001b[0m\u001b[0;34m,\u001b[0m \u001b[0mload_presaved\u001b[0m\u001b[0;34m=\u001b[0m\u001b[0mload_presaved\u001b[0m\u001b[0;34m)\u001b[0m\u001b[0;34m\u001b[0m\u001b[0;34m\u001b[0m\u001b[0m\n\u001b[0m\u001b[1;32m      3\u001b[0m \u001b[0mprint\u001b[0m\u001b[0;34m(\u001b[0m\u001b[0mzcv_dict\u001b[0m\u001b[0;34m.\u001b[0m\u001b[0mkeys\u001b[0m\u001b[0;34m(\u001b[0m\u001b[0;34m)\u001b[0m\u001b[0;34m)\u001b[0m\u001b[0;34m\u001b[0m\u001b[0;34m\u001b[0m\u001b[0m\n\u001b[1;32m      4\u001b[0m \u001b[0;32mfor\u001b[0m \u001b[0mkey\u001b[0m \u001b[0;32min\u001b[0m \u001b[0mzcv_dict\u001b[0m\u001b[0;34m.\u001b[0m\u001b[0mkeys\u001b[0m\u001b[0;34m(\u001b[0m\u001b[0;34m)\u001b[0m\u001b[0;34m:\u001b[0m\u001b[0;34m\u001b[0m\u001b[0;34m\u001b[0m\u001b[0m\n\u001b[1;32m      5\u001b[0m     \u001b[0;32mif\u001b[0m \u001b[0;34m\"ell\"\u001b[0m \u001b[0;32min\u001b[0m \u001b[0mkey\u001b[0m\u001b[0;34m:\u001b[0m\u001b[0;34m\u001b[0m\u001b[0;34m\u001b[0m\u001b[0m\n",
      "\u001b[0;31mNameError\u001b[0m: name 'newBall' is not defined"
     ]
    }
   ],
   "source": [
    "# Run zcv on the correlation function multipoles\n",
    "zcv_dict = newBall.apply_zcv_xi(mock_dict, config, load_presaved=load_presaved)\n",
    "print(zcv_dict.keys())\n",
    "for key in zcv_dict.keys():\n",
    "    if \"ell\" in key:\n",
    "        print(key, zcv_dict[key])\n",
    "        print(\"-----------------\")"
   ]
  },
  {
   "cell_type": "code",
   "execution_count": 6,
   "metadata": {},
   "outputs": [
    {
     "ename": "NameError",
     "evalue": "name 'newBall' is not defined",
     "output_type": "error",
     "traceback": [
      "\u001b[0;31m---------------------------------------------------------------------------\u001b[0m",
      "\u001b[0;31mNameError\u001b[0m                                 Traceback (most recent call last)",
      "\u001b[0;32m<ipython-input-6-fc3346e35c46>\u001b[0m in \u001b[0;36m<module>\u001b[0;34m()\u001b[0m\n\u001b[1;32m      1\u001b[0m \u001b[0;31m# Run zcv on the power spectrum multipoles\u001b[0m\u001b[0;34m\u001b[0m\u001b[0;34m\u001b[0m\u001b[0;34m\u001b[0m\u001b[0m\n\u001b[0;32m----> 2\u001b[0;31m \u001b[0mzcv_dict\u001b[0m \u001b[0;34m=\u001b[0m \u001b[0mnewBall\u001b[0m\u001b[0;34m.\u001b[0m\u001b[0mapply_zcv\u001b[0m\u001b[0;34m(\u001b[0m\u001b[0mmock_dict\u001b[0m\u001b[0;34m,\u001b[0m \u001b[0mconfig\u001b[0m\u001b[0;34m,\u001b[0m \u001b[0mload_presaved\u001b[0m\u001b[0;34m=\u001b[0m\u001b[0mload_presaved\u001b[0m\u001b[0;34m)\u001b[0m\u001b[0;34m\u001b[0m\u001b[0;34m\u001b[0m\u001b[0m\n\u001b[0m\u001b[1;32m      3\u001b[0m \u001b[0mprint\u001b[0m\u001b[0;34m(\u001b[0m\u001b[0mzcv_dict\u001b[0m\u001b[0;34m.\u001b[0m\u001b[0mkeys\u001b[0m\u001b[0;34m(\u001b[0m\u001b[0;34m)\u001b[0m\u001b[0;34m)\u001b[0m\u001b[0;34m\u001b[0m\u001b[0;34m\u001b[0m\u001b[0m\n\u001b[1;32m      4\u001b[0m \u001b[0;32mfor\u001b[0m \u001b[0mkey\u001b[0m \u001b[0;32min\u001b[0m \u001b[0mzcv_dict\u001b[0m\u001b[0;34m.\u001b[0m\u001b[0mkeys\u001b[0m\u001b[0;34m(\u001b[0m\u001b[0;34m)\u001b[0m\u001b[0;34m:\u001b[0m\u001b[0;34m\u001b[0m\u001b[0;34m\u001b[0m\u001b[0m\n\u001b[1;32m      5\u001b[0m     \u001b[0;32mif\u001b[0m \u001b[0;34m\"ell\"\u001b[0m \u001b[0;32min\u001b[0m \u001b[0mkey\u001b[0m\u001b[0;34m:\u001b[0m\u001b[0;34m\u001b[0m\u001b[0;34m\u001b[0m\u001b[0m\n",
      "\u001b[0;31mNameError\u001b[0m: name 'newBall' is not defined"
     ]
    }
   ],
   "source": [
    "# Run zcv on the power spectrum multipoles\n",
    "zcv_dict = newBall.apply_zcv(mock_dict, config, load_presaved=load_presaved)\n",
    "print(zcv_dict.keys())\n",
    "for key in zcv_dict.keys():\n",
    "    if \"ell\" in key:\n",
    "        print(key, zcv_dict[key])\n",
    "        print(\"-----------------\")"
   ]
  },
  {
   "cell_type": "code",
   "execution_count": 9,
   "metadata": {},
   "outputs": [
    {
     "ename": "NameError",
     "evalue": "name 'zcv_dict' is not defined",
     "output_type": "error",
     "traceback": [
      "\u001b[0;31m---------------------------------------------------------------------------\u001b[0m",
      "\u001b[0;31mNameError\u001b[0m                                 Traceback (most recent call last)",
      "\u001b[0;32m<ipython-input-9-ec58ba1a61f3>\u001b[0m in \u001b[0;36m<module>\u001b[0;34m()\u001b[0m\n\u001b[1;32m      1\u001b[0m \u001b[0;31m# Parse the output from the ZCV-reduced power spectrum measurements\u001b[0m\u001b[0;34m\u001b[0m\u001b[0;34m\u001b[0m\u001b[0;34m\u001b[0m\u001b[0m\n\u001b[0;32m----> 2\u001b[0;31m \u001b[0mk_binc\u001b[0m \u001b[0;34m=\u001b[0m \u001b[0mzcv_dict\u001b[0m\u001b[0;34m[\u001b[0m\u001b[0;34m'k_binc'\u001b[0m\u001b[0;34m]\u001b[0m\u001b[0;34m\u001b[0m\u001b[0;34m\u001b[0m\u001b[0m\n\u001b[0m\u001b[1;32m      3\u001b[0m \u001b[0mpk_nn_betasmooth\u001b[0m \u001b[0;34m=\u001b[0m \u001b[0mzcv_dict\u001b[0m\u001b[0;34m[\u001b[0m\u001b[0;34m'Pk_tr_tr_ell_zcv'\u001b[0m\u001b[0;34m]\u001b[0m\u001b[0;34m\u001b[0m\u001b[0;34m\u001b[0m\u001b[0m\n\u001b[1;32m      4\u001b[0m \u001b[0mpk_tt_poles\u001b[0m \u001b[0;34m=\u001b[0m \u001b[0mzcv_dict\u001b[0m\u001b[0;34m[\u001b[0m\u001b[0;34m'Pk_tr_tr_ell'\u001b[0m\u001b[0;34m]\u001b[0m\u001b[0;34m\u001b[0m\u001b[0;34m\u001b[0m\u001b[0m\n\u001b[1;32m      5\u001b[0m \u001b[0mpk_zz\u001b[0m \u001b[0;34m=\u001b[0m \u001b[0mzcv_dict\u001b[0m\u001b[0;34m[\u001b[0m\u001b[0;34m'Pk_ZD_ZD_ell'\u001b[0m\u001b[0;34m]\u001b[0m\u001b[0;34m\u001b[0m\u001b[0;34m\u001b[0m\u001b[0m\n",
      "\u001b[0;31mNameError\u001b[0m: name 'zcv_dict' is not defined"
     ]
    }
   ],
   "source": [
    "# Parse the output from the ZCV-reduced power spectrum measurements\n",
    "k_binc = zcv_dict['k_binc']\n",
    "pk_nn_betasmooth = zcv_dict['Pk_tr_tr_ell_zcv']\n",
    "pk_tt_poles = zcv_dict['Pk_tr_tr_ell']\n",
    "pk_zz = zcv_dict['Pk_ZD_ZD_ell']\n",
    "pk_zn = zcv_dict['Pk_tr_ZD_ell']\n",
    "r_zt = zcv_dict['rho_tr_ZD']\n",
    "pk_zenbu = zcv_dict['Pk_ZD_ZD_ell_ZeNBu']"
   ]
  },
  {
   "cell_type": "markdown",
   "metadata": {},
   "source": [
    "Plot the ZCV reduction on the power spectrum."
   ]
  },
  {
   "cell_type": "code",
   "execution_count": 10,
   "metadata": {},
   "outputs": [
    {
     "ename": "NameError",
     "evalue": "name 'want_rsd' is not defined",
     "output_type": "error",
     "traceback": [
      "\u001b[0;31m---------------------------------------------------------------------------\u001b[0m",
      "\u001b[0;31mNameError\u001b[0m                                 Traceback (most recent call last)",
      "\u001b[0;32m<ipython-input-10-c1d19f03a56a>\u001b[0m in \u001b[0;36m<module>\u001b[0;34m()\u001b[0m\n\u001b[1;32m      1\u001b[0m \u001b[0;31m# Set up the canvas\u001b[0m\u001b[0;34m\u001b[0m\u001b[0;34m\u001b[0m\u001b[0;34m\u001b[0m\u001b[0m\n\u001b[0;32m----> 2\u001b[0;31m \u001b[0;32mif\u001b[0m \u001b[0mwant_rsd\u001b[0m\u001b[0;34m:\u001b[0m\u001b[0;34m\u001b[0m\u001b[0;34m\u001b[0m\u001b[0m\n\u001b[0m\u001b[1;32m      3\u001b[0m     \u001b[0mfigsize\u001b[0m \u001b[0;34m=\u001b[0m \u001b[0;34m(\u001b[0m\u001b[0;36m12\u001b[0m\u001b[0;34m,\u001b[0m \u001b[0;36m5\u001b[0m\u001b[0;34m)\u001b[0m\u001b[0;34m\u001b[0m\u001b[0;34m\u001b[0m\u001b[0m\n\u001b[1;32m      4\u001b[0m     \u001b[0mn_ell\u001b[0m \u001b[0;34m=\u001b[0m \u001b[0;36m3\u001b[0m\u001b[0;34m\u001b[0m\u001b[0;34m\u001b[0m\u001b[0m\n\u001b[1;32m      5\u001b[0m \u001b[0;32melse\u001b[0m\u001b[0;34m:\u001b[0m\u001b[0;34m\u001b[0m\u001b[0;34m\u001b[0m\u001b[0m\n",
      "\u001b[0;31mNameError\u001b[0m: name 'want_rsd' is not defined"
     ]
    }
   ],
   "source": [
    "# Set up the canvas\n",
    "if want_rsd:\n",
    "    figsize = (12, 5)\n",
    "    n_ell = 3\n",
    "else:\n",
    "    figsize = (6, 5)\n",
    "    n_ell = 1\n",
    "f, ax = plt.subplots(1, n_ell, sharex=True, sharey=True, figsize=figsize)\n",
    "if not want_rsd:\n",
    "    ax = [ax]\n",
    "    \n",
    "# Loop over all multipoles\n",
    "for ell in range(n_ell):\n",
    "    \n",
    "    if want_rsd:\n",
    "        pk_zz_ell = pk_zz[ell, :].flatten()\n",
    "        pk_zenbu_ell = pk_zenbu[ell, :].flatten()\n",
    "        pk_tt_poles_ell = pk_tt_poles[0, ell, :]\n",
    "        pk_nn_betasmooth_ell = pk_nn_betasmooth[ell, :]\n",
    "    else:\n",
    "        pk_zz_ell = pk_zz.flatten()\n",
    "        pk_zenbu_ell = pk_zenbu.flatten()\n",
    "        pk_tt_poles_ell = pk_tt_poles.flatten()\n",
    "        pk_nn_betasmooth_ell = pk_nn_betasmooth.flatten()\n",
    "        \n",
    "    ax[ell].plot(k_binc, k_binc * pk_tt_poles_ell, label='Measured tracer power')\n",
    "    ax[ell].plot(k_binc, k_binc * pk_nn_betasmooth_ell, label='Reduced tracer power')\n",
    "    ax[ell].plot(k_binc, k_binc * pk_zenbu_ell, label='ZeNBu fitted power')\n",
    "\n",
    "    if ell == 0:\n",
    "        ax[ell].set_ylabel(r\"$k P(k)$\")\n",
    "    ax[ell].set_xlabel(r\"$k \\ [h/{\\rm Mpc}]$\")\n",
    "plt.legend()\n"
   ]
  },
  {
   "cell_type": "code",
   "execution_count": null,
   "metadata": {},
   "outputs": [],
   "source": []
  }
 ],
 "metadata": {
  "kernelspec": {
   "display_name": "Python 3",
   "language": "python",
   "name": "python3"
  },
  "language_info": {
   "codemirror_mode": {
    "name": "ipython",
    "version": 3
   },
   "file_extension": ".py",
   "mimetype": "text/x-python",
   "name": "python",
   "nbconvert_exporter": "python",
   "pygments_lexer": "ipython3",
   "version": "3.6.12"
  }
 },
 "nbformat": 4,
 "nbformat_minor": 2
}
