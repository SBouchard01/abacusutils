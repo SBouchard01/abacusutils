{
 "cells": [
  {
   "cell_type": "markdown",
   "metadata": {},
   "source": [
    "The first step in applying the Zel'dovich Control Variates (ZCV) is running the \"preparation steps\".\n",
    "\n",
    "1. Save the window function (given k-binning) and the Zel'dovich theoretical prediction (given k-binning and redshift):\n",
    "\n",
    "`python -m abacusnbody.hod.zcv.zenbu_window --path2config $1 --alt_simname $2`\n",
    "\n",
    "2. Save the initial conditions fields (delta, delta^2, s^2, nabla^2):\n",
    "\n",
    "`python -m abacusnbody.hod.zcv.ic_fields --path2config $1 --alt_simname $2`\n",
    "\n",
    "3. Save the advected fields and their power spectra at this redshift\n",
    "\n",
    "    - When applying ZCV to the power spectrum multipoles:\n",
    "\n",
    "        - Run this version if planning to use mocks with and without RSD effects:\n",
    "\n",
    "        `python -m abacusnbody.hod.zcv.advect_fields --path2config $1 --want_rsd --alt_simname $2`\n",
    "\n",
    "        - Run this version if not planning to use mocks with RSD effects:\n",
    "\n",
    "        `python -m abacusnbody.hod.zcv.advect_fields --path2config $1 --alt_simname $2`\n",
    "\n",
    "    - When applying ZCV to the correlation function multipoles:\n",
    "\n",
    "        - Run this version if planning to use mocks with and without RSD effects:\n",
    "\n",
    "        `python -m abacusnbody.hod.zcv.advect_fields --path2config $1 --want_rsd --alt_simname $2 --save_3D_power`\n",
    "\n",
    "        - Run this version if not planning to use mocks with RSD effects:\n",
    "\n",
    "        `python -m abacusnbody.hod.zcv.advect_fields --path2config $1 --alt_simname $2 --save_3D_power`\n",
    "        \n",
    "An example `yaml` configuration file can be found in the `config/` directory, `lrg_hod_base_z0.500_nmesh576.yaml`. Note that the `--alt_simname` argument is optional and only needed if the user wants to use a different simulation from the one specified in the `yaml` file.\n"
   ]
  },
  {
   "cell_type": "code",
   "execution_count": 7,
   "metadata": {},
   "outputs": [],
   "source": [
    "# Load necessary packages\n",
    "import os\n",
    "\n",
    "import numpy as np\n",
    "import matplotlib.pyplot as plt\n",
    "import yaml\n",
    "\n",
    "from abacusnbody.hod.abacus_hod import AbacusHOD"
   ]
  },
  {
   "cell_type": "code",
   "execution_count": 47,
   "metadata": {},
   "outputs": [],
   "source": [
    "# Whether to use the last computed tracer power spectra (saves time)\n",
    "load_presaved = True"
   ]
  },
  {
   "cell_type": "code",
   "execution_count": 9,
   "metadata": {},
   "outputs": [],
   "source": [
    "# Load the config file and parse in relevant parameters\n",
    "path2config = \"config/lrg_hod_base_z0.500_nmesh1152.yaml\"\n",
    "\n",
    "# Read the parameters from the yaml file\n",
    "config = yaml.safe_load(open(path2config))\n",
    "sim_params = config['sim_params']\n",
    "HOD_params = config['HOD_params']\n",
    "clustering_params = config['clustering_params']\n",
    "zcv_params = config['zcv_params']\n",
    "\n",
    "# Additional parameter choices\n",
    "want_rsd = HOD_params['want_rsd']\n",
    "write_to_disk = HOD_params['write_to_disk']\n",
    "z_mock = sim_params['z_mock']\n",
    "sim_name = sim_params['sim_name']\n",
    "nmesh = zcv_params['nmesh']"
   ]
  },
  {
   "cell_type": "code",
   "execution_count": 10,
   "metadata": {},
   "outputs": [
    {
     "name": "stdout",
     "output_type": "stream",
     "text": [
      "Loading simulation by slab,  0\n",
      "Loading simulation by slab,  1\n",
      "Loading simulation by slab,  2\n",
      "Loading simulation by slab,  3\n",
      "Loading simulation by slab,  4\n",
      "Loading simulation by slab,  5\n",
      "Loading simulation by slab,  6\n",
      "Loading simulation by slab,  7\n",
      "Loading simulation by slab,  8\n",
      "Loading simulation by slab,  9\n",
      "Loading simulation by slab,  10\n",
      "Loading simulation by slab,  11\n",
      "Loading simulation by slab,  12\n",
      "Loading simulation by slab,  13\n",
      "Loading simulation by slab,  14\n",
      "Loading simulation by slab,  15\n",
      "Loading simulation by slab,  16\n",
      "Loading simulation by slab,  17\n",
      "Loading simulation by slab,  18\n",
      "Loading simulation by slab,  19\n",
      "Loading simulation by slab,  20\n",
      "Loading simulation by slab,  21\n",
      "Loading simulation by slab,  22\n",
      "Loading simulation by slab,  23\n",
      "Loading simulation by slab,  24\n",
      "Loading simulation by slab,  25\n",
      "Loading simulation by slab,  26\n",
      "Loading simulation by slab,  27\n",
      "Loading simulation by slab,  28\n",
      "Loading simulation by slab,  29\n",
      "Loading simulation by slab,  30\n",
      "Loading simulation by slab,  31\n",
      "Loading simulation by slab,  32\n",
      "Loading simulation by slab,  33\n",
      "gen mocks 0.4837343692779541\n",
      "number of galaxies 2848044\n"
     ]
    }
   ],
   "source": [
    "# Run hod\n",
    "newBall = AbacusHOD(sim_params, HOD_params, clustering_params)\n",
    "mock_dict = newBall.run_hod(newBall.tracers, want_rsd, write_to_disk, Nthread=16)\n",
    "nobj = mock_dict['LRG']['mass'].size\n",
    "print(\"number of galaxies\", nobj)"
   ]
  },
  {
   "cell_type": "code",
   "execution_count": 32,
   "metadata": {},
   "outputs": [
    {
     "name": "stdout",
     "output_type": "stream",
     "text": [
      "D =  58.898568747251055\n",
      "min/max tracer pos 0.0 1999.9996 (2848044, 3)\n"
     ]
    },
    {
     "name": "stderr",
     "output_type": "stream",
     "text": [
      "/global/u1/b/boryanah/repos/abacusutils/abacusnbody/analysis/power_spectrum.py:588: UserWarning: npartition 384 not large enough to use all 256 threads; should be 2*nthread\n",
      "  tsc_parallel(pos, field, Lbox, weights=w)\n"
     ]
    },
    {
     "name": "stdout",
     "output_type": "stream",
     "text": [
      "field, pos float32 float32\n"
     ]
    },
    {
     "name": "stderr",
     "output_type": "stream",
     "text": [
      "/global/u1/b/boryanah/repos/abacusutils/abacusnbody/analysis/power_spectrum.py:586: UserWarning: npartition 384 not large enough to use all 256 threads; should be 2*nthread\n",
      "  tsc_parallel(pos + np.float32(d), field, Lbox, weights=w)\n"
     ]
    },
    {
     "name": "stdout",
     "output_type": "stream",
     "text": [
      "shift float32 float32\n",
      "field fft complex64\n",
      "Computing auto-correlation of tracer\n",
      "Computing cross-correlation of tracer and  1cb\n",
      "Computing cross-correlation of tracer and  delta\n",
      "gen mocks 0.412402868270874\n",
      "D =  58.898568747251055\n",
      "min/max tracer pos 0.0 1999.9996 (2848044, 3)\n",
      "field, pos float32 float32\n",
      "shift float32 float32\n",
      "field fft complex64\n",
      "Computing auto-correlation of tracer\n",
      "Computing cross-correlation of tracer and  1cb\n",
      "delta\n"
     ]
    },
    {
     "name": "stderr",
     "output_type": "stream",
     "text": [
      "/global/u1/b/boryanah/repos/abacusutils/abacusnbody/hod/zcv/tools_jdr.py:592: UserWarning: Setting the parameters correctly for Xi computation\n",
      "  warnings.warn(\"Setting the parameters correctly for Xi computation\")\n"
     ]
    },
    {
     "name": "stdout",
     "output_type": "stream",
     "text": [
      "pk_nn [4.6188684e-06 6.6235693e-06 6.2845575e-06 6.0367229e-06 8.2227943e-06\n",
      " 7.3244523e-06 7.5945131e-06 6.9548200e-06 6.3172502e-06 5.8605929e-06]\n",
      "projecting 1cb 1cb\n",
      "pk_ij [1.11507973e-06 1.31215575e-06 1.45931051e-06 1.43766511e-06\n",
      " 1.89086438e-06 1.66028008e-06 1.73226260e-06 1.58850628e-06\n",
      " 1.41524549e-06 1.36921062e-06]\n",
      "projecting delta 1cb\n",
      "pk_ij [1.11436111e-06 1.31187960e-06 1.45862498e-06 1.43517025e-06\n",
      " 1.89101820e-06 1.66057703e-06 1.73323065e-06 1.58799082e-06\n",
      " 1.41717419e-06 1.37107622e-06]\n",
      "projecting delta delta\n",
      "pk_ij [1.11364750e-06 1.31163745e-06 1.45806825e-06 1.43308125e-06\n",
      " 1.89167997e-06 1.66191842e-06 1.73584817e-06 1.58956516e-06\n",
      " 1.42189697e-06 1.37636903e-06]\n",
      "bias [1.00000000e+00 1.02813132e+00 4.57515274e-07]\n",
      "compressed\n",
      "dict_keys(['k_binc', 'poles', 'rho_tr_ZD', 'Pk_ZD_ZD_ell', 'Pk_tr_ZD_ell', 'Pk_tr_tr_ell', 'Nk_tr_tr_ell', 'Pk_tr_tr_ell_zcv', 'Pk_ZD_ZD_ell_ZeNBu', 'bias', 'Xi_tr_tr_ell_zcv', 'Xi_tr_tr_ell', 'Np_tr_tr_ell', 'r_binc'])\n",
      "Xi_tr_tr_ell_zcv [[ 5.67807922e+02  5.95005894e+00  1.12669230e+01  4.89500856e+00\n",
      "   4.39595461e+00  3.35793304e+00  1.93376911e+00  1.70479548e+00\n",
      "   1.25776708e+00  1.01386106e+00  1.06969011e+00  6.74746513e-01\n",
      "   7.01331913e-01  5.39486468e-01  5.26949167e-01  4.70998466e-01\n",
      "   3.71275008e-01  3.58317614e-01  2.92856306e-01  2.81169772e-01\n",
      "   2.43771374e-01  2.26577297e-01  2.03423247e-01  1.84212148e-01\n",
      "   1.67228669e-01  1.54432565e-01  1.39593795e-01  1.32527545e-01\n",
      "   1.14768825e-01  1.07721031e-01  9.75029320e-02  9.16335061e-02\n",
      "   8.47034454e-02  7.80696422e-02  7.29659274e-02  6.74826801e-02\n",
      "   6.18274249e-02  5.87417670e-02  5.45629300e-02  5.03432751e-02\n",
      "   4.56227027e-02  4.32772599e-02  4.09515686e-02  3.70960459e-02\n",
      "   3.53322327e-02  3.22848558e-02  3.10118981e-02  2.82843020e-02\n",
      "   2.59512216e-02  2.44600624e-02  2.25025322e-02  2.13544201e-02\n",
      "   2.00227275e-02  1.92379486e-02  1.82291940e-02  1.67057198e-02\n",
      "   1.55926375e-02  1.46576725e-02  1.39388759e-02  1.31418630e-02\n",
      "   1.22597059e-02  1.16067370e-02  1.05851321e-02  9.81582608e-03\n",
      "   9.11249872e-03  8.45783576e-03  7.93182105e-03  7.60309305e-03\n",
      "   7.24116713e-03  6.57068565e-03  6.43453794e-03  5.92562929e-03\n",
      "   5.46271401e-03  4.98415343e-03  4.66640387e-03  4.45354497e-03\n",
      "   3.95587552e-03  3.84052307e-03  3.84004368e-03  3.59333749e-03\n",
      "   3.37501941e-03  3.55661777e-03  2.98003666e-03  3.06338584e-03\n",
      "   3.25180544e-03  3.23538855e-03  3.14186700e-03  3.04293609e-03\n",
      "   3.29801906e-03  3.30729806e-03  3.76314111e-03  3.51088098e-03\n",
      "   3.93329095e-03  4.18441510e-03  4.17746184e-03  3.87772243e-03\n",
      "   4.07702243e-03  4.05879086e-03  4.19639749e-03  3.80748208e-03\n",
      "   4.03557252e-03  3.98692302e-03  3.75493197e-03  3.43464362e-03\n",
      "   3.77686787e-03  3.33097554e-03  3.10841459e-03  2.76804692e-03\n",
      "   2.66552996e-03  2.81998608e-03  2.47640978e-03  2.21765391e-03\n",
      "   1.85814616e-03  1.58045930e-03  1.33374159e-03  1.22566056e-03\n",
      "   8.35932558e-04  6.10745570e-04  5.57421881e-04  5.86335838e-04\n",
      "   1.86376798e-04  1.98009002e-04  3.47071982e-05 -1.01912301e-04\n",
      "  -6.90398592e-05 -3.55327764e-04 -4.82136791e-04 -5.06518758e-04\n",
      "  -3.93941184e-04 -6.17710699e-04 -7.80986389e-04 -6.39840146e-04\n",
      "  -7.35907117e-04 -8.53324018e-04 -8.09095858e-04 -8.55113438e-04\n",
      "  -9.44185769e-04 -1.08197832e-03 -1.07733521e-03 -9.00820130e-04\n",
      "  -9.63363505e-04 -1.09861570e-03 -1.15586829e-03 -1.07755640e-03\n",
      "  -1.01332681e-03 -1.00792537e-03 -1.01807283e-03 -9.39631544e-04\n",
      "  -8.47605930e-04 -9.85500636e-04 -8.66127608e-04 -9.64877661e-04\n",
      "  -1.04100734e-03 -1.12107524e-03 -9.42914805e-04 -8.48698139e-04\n",
      "  -1.18007197e-03 -9.20695078e-04 -8.90343916e-04 -9.89048043e-04\n",
      "  -9.32753668e-04 -9.73133021e-04 -8.94446915e-04 -1.11356890e-03\n",
      "  -8.39312212e-04 -8.93383694e-04 -9.88399959e-04 -9.42839542e-04\n",
      "  -7.14274182e-04 -7.89374928e-04 -8.19285226e-04 -6.97611540e-04\n",
      "  -7.17220013e-04 -6.97422249e-04 -8.94758035e-04 -7.86652789e-04\n",
      "  -7.66921672e-04 -8.02258146e-04 -6.42864441e-04 -6.47504057e-04\n",
      "  -7.20658107e-04 -7.34322181e-04 -4.86695790e-04 -4.86607867e-04\n",
      "  -5.62020519e-04 -4.80519462e-04 -5.86443872e-04 -5.78947598e-04\n",
      "  -7.37693626e-04 -6.28196925e-04 -4.82004456e-04 -5.14713058e-04\n",
      "  -4.43799130e-04 -4.07343003e-04 -4.99950780e-04 -3.98990960e-04\n",
      "  -4.34458401e-04 -5.20082540e-04 -3.78775148e-04 -4.19758930e-04]\n",
      " [-1.41951978e+03  1.43485308e+01  2.40337253e-01  3.02958441e+00\n",
      "  -3.05000037e-01  8.60708356e-01  1.91493183e-01 -3.65095198e-01\n",
      "  -3.68531086e-02 -3.86454076e-01 -2.32588693e-01 -2.93798119e-01\n",
      "  -2.46630982e-01 -2.15292826e-01 -2.63666213e-01 -1.91543728e-01\n",
      "  -2.07275197e-01 -1.79757595e-01 -1.66515678e-01 -1.66370943e-01\n",
      "  -1.39222458e-01 -1.53361112e-01 -1.24817938e-01 -1.20500058e-01\n",
      "  -1.17962010e-01 -1.06913671e-01 -1.07651554e-01 -9.13022384e-02\n",
      "  -9.42419693e-02 -8.71789455e-02 -7.75204897e-02 -7.90559724e-02\n",
      "  -7.12810233e-02 -7.22931027e-02 -6.38116226e-02 -6.49410412e-02\n",
      "  -5.93592450e-02 -5.44114076e-02 -5.51399328e-02 -4.85312268e-02\n",
      "  -4.98733409e-02 -4.39163968e-02 -4.56043221e-02 -4.33147997e-02\n",
      "  -4.00165543e-02 -4.07135338e-02 -3.69149409e-02 -3.65945436e-02\n",
      "  -3.41749825e-02 -3.36606205e-02 -3.30429897e-02 -3.07598393e-02\n",
      "  -3.12653668e-02 -2.95110885e-02 -2.86003686e-02 -2.73486860e-02\n",
      "  -2.61853412e-02 -2.57058758e-02 -2.37319730e-02 -2.44267359e-02\n",
      "  -2.22754646e-02 -2.33309120e-02 -2.18057055e-02 -2.05132812e-02\n",
      "  -2.09932607e-02 -1.93193927e-02 -1.98973659e-02 -1.83404349e-02\n",
      "  -1.83154419e-02 -1.83266811e-02 -1.72180794e-02 -1.68508999e-02\n",
      "  -1.53156463e-02 -1.61167681e-02 -1.50481882e-02 -1.45982672e-02\n",
      "  -1.41777005e-02 -1.34778265e-02 -1.30371153e-02 -1.36651574e-02\n",
      "  -1.27615584e-02 -1.16796941e-02 -1.10366913e-02 -1.14055146e-02\n",
      "  -1.08917952e-02 -1.08628115e-02 -1.04758106e-02 -9.78577137e-03\n",
      "  -9.48254205e-03 -9.40563902e-03 -9.63605382e-03 -8.98760930e-03\n",
      "  -9.31039359e-03 -8.19321536e-03 -7.98602216e-03 -7.94276409e-03\n",
      "  -8.19641165e-03 -8.28737486e-03 -7.61145586e-03 -7.32982485e-03\n",
      "  -7.00899353e-03 -6.83428161e-03 -6.96062203e-03 -6.73192926e-03\n",
      "  -6.30575931e-03 -6.59780856e-03 -6.12166617e-03 -5.84343122e-03\n",
      "  -5.94934681e-03 -5.70144784e-03 -5.75090386e-03 -5.44058997e-03\n",
      "  -5.14461705e-03 -5.39020542e-03 -4.70848475e-03 -5.04292967e-03\n",
      "  -5.07761678e-03 -5.07163443e-03 -4.99490742e-03 -4.85783210e-03\n",
      "  -4.42317547e-03 -4.75958223e-03 -4.26950771e-03 -4.93001193e-03\n",
      "  -4.98143723e-03 -4.45445022e-03 -4.33392031e-03 -4.45072958e-03\n",
      "  -3.81112006e-03 -3.80172674e-03 -4.21183789e-03 -4.23491187e-03\n",
      "  -4.05226042e-03 -3.66650592e-03 -4.05833824e-03 -4.12416132e-03\n",
      "  -3.72836716e-03 -3.31208156e-03 -3.35307047e-03 -3.65584530e-03\n",
      "  -3.31976591e-03 -3.78885958e-03 -3.09599075e-03 -3.19003407e-03\n",
      "  -3.18906805e-03 -2.87115085e-03 -3.05989361e-03 -2.99154921e-03\n",
      "  -2.76129157e-03 -2.95941532e-03 -2.58383760e-03 -2.79361871e-03\n",
      "  -2.31569633e-03 -2.43597454e-03 -2.18156818e-03 -2.50379927e-03\n",
      "  -2.53317482e-03 -2.19298410e-03 -1.76988391e-03 -2.33357283e-03\n",
      "  -2.04562256e-03 -2.07874621e-03 -2.21462431e-03 -2.01820512e-03\n",
      "  -2.07586843e-03 -2.02076975e-03 -2.01232266e-03 -1.88004877e-03\n",
      "  -1.90800685e-03 -1.99689227e-03 -1.83744030e-03 -1.75025046e-03\n",
      "  -1.66858709e-03 -1.51558395e-03 -1.98478089e-03 -1.54553645e-03\n",
      "  -1.74495217e-03 -1.69762701e-03 -1.86535507e-03 -2.01904727e-03\n",
      "  -1.61111145e-03 -1.59047532e-03 -1.43988221e-03 -1.22967013e-03\n",
      "  -1.86357310e-03 -1.48321304e-03 -1.88339164e-03 -1.31499814e-03\n",
      "  -1.44034834e-03 -1.28841260e-03 -1.59354461e-03 -1.27936900e-03\n",
      "  -1.57043687e-03 -1.09740184e-03 -1.26761757e-03 -1.06946600e-03\n",
      "  -1.14995998e-03 -1.16327032e-03 -9.31102608e-04 -1.20184827e-03]\n",
      " [ 1.91635168e+03  4.19992027e+01 -1.52384691e+01  1.11206770e+01\n",
      "  -5.37776899e+00  4.72863054e+00  1.15129101e+00  1.06715150e-01\n",
      "   7.14875758e-01 -1.53435349e-01  6.64647579e-01 -1.90382838e-01\n",
      "   1.78848714e-01  1.95730831e-02  2.04252169e-01  3.99100594e-02\n",
      "   3.24166194e-02  5.61364889e-02 -3.14400978e-02  8.79244804e-02\n",
      "  -4.00385708e-02  8.08542073e-02 -1.42334262e-02  1.28003620e-02\n",
      "   2.85879578e-02 -7.04466272e-03  3.09391972e-02  1.93945295e-03\n",
      "   2.01840252e-02  1.02766221e-02 -4.63945838e-03  1.02921622e-02\n",
      "  -3.57024744e-03  1.43865608e-02  5.62024885e-04  9.09272768e-03\n",
      "   6.38160668e-03 -4.48068464e-03  1.13342358e-02  1.38203765e-03\n",
      "   3.96828260e-03 -3.41002560e-05  4.38359287e-03  2.18152674e-03\n",
      "  -1.85702019e-03  4.85516898e-03  8.49929813e-04  2.97879800e-03\n",
      "   5.66008268e-04  1.89245492e-03  2.60528526e-03  6.34144701e-04\n",
      "   3.49451974e-03  1.37128017e-03  3.63880419e-03  3.25338938e-03\n",
      "   2.37495964e-03  1.48107717e-03  1.03583990e-03  3.27436975e-03\n",
      "   2.03356333e-03  9.12492978e-04  1.68432156e-03  7.06377265e-04\n",
      "   5.77876577e-04  2.36189517e-04  1.83969305e-03  8.45385075e-04\n",
      "   1.55934365e-03 -9.53859271e-05  1.45774835e-03  7.03288359e-04\n",
      "   7.74153508e-04 -2.00065289e-04  1.17889373e-03 -2.33744940e-04\n",
      "   3.98181182e-05  1.45119312e-03  7.94582011e-04  8.30690085e-04\n",
      "   3.34244949e-04  1.23268832e-03  1.22205331e-03  7.61851086e-04\n",
      "   9.65966901e-04  1.33464648e-03  7.53495493e-04  5.47017495e-04\n",
      "   9.37041419e-04  1.13089173e-03  1.94137194e-03  5.09802427e-04\n",
      "   9.21125000e-04  8.38025473e-04 -9.06732530e-05  7.36129645e-04\n",
      "   8.38665175e-04  5.32443519e-04  1.36304367e-03  8.11086444e-04\n",
      "   1.61333723e-04  1.26709032e-03  1.99784899e-05  6.40771701e-04\n",
      "   9.58383840e-04  9.94590926e-04  1.15151936e-03  1.03215349e-03\n",
      "   1.54695846e-03  1.08371663e-03  8.08390148e-04  8.96634825e-04\n",
      "   1.24527304e-03  1.06790394e-03  7.92605802e-04  1.25780364e-03\n",
      "   7.92442821e-04  9.83418431e-04  4.03651648e-04  1.18432636e-03\n",
      "   4.73169232e-04  7.99775182e-04  9.68162087e-04  6.32070063e-04\n",
      "   9.28418769e-04  2.85489485e-04  1.30424614e-03  6.67819695e-04\n",
      "   3.63725179e-04  1.25821761e-03  9.72857757e-04  6.63360697e-04\n",
      "   7.05004262e-04  6.49384805e-04  8.98416401e-05  5.05109841e-04\n",
      "   8.93403252e-04  4.43678902e-04  4.94939799e-04  9.89966429e-05\n",
      "  -5.54401140e-07  2.39133646e-04  3.00060288e-04  5.67071140e-04\n",
      "   3.51036753e-04  2.91420787e-04  4.17219620e-04 -1.04079103e-04\n",
      "   4.75906127e-04  5.94616031e-05  6.38819474e-05  1.60053169e-05\n",
      "   3.07224604e-04 -2.42065362e-04  4.03801881e-04  4.20699536e-04\n",
      "   3.30614217e-04  3.16193269e-04  6.46640910e-05  3.41012870e-04\n",
      "   7.07414059e-04  5.51137084e-04  4.56598471e-04 -4.30465152e-04\n",
      "   5.04191674e-04  6.11351497e-05  2.74797931e-04  2.95257836e-04\n",
      "  -1.36610310e-04  7.86056335e-05  2.35482294e-05 -6.55371332e-05\n",
      "   7.82311909e-05  3.90214147e-04  1.49507716e-04  6.75685355e-04\n",
      "  -3.07599512e-05  8.68155894e-06  3.65257583e-04  2.84781185e-04\n",
      "  -7.67012461e-05  4.65608435e-04  2.50722107e-04  4.46420745e-04\n",
      "   1.57886287e-04  5.78790437e-04  1.10871304e-04 -1.31008608e-04\n",
      "   2.22388233e-04  2.45810690e-04 -2.23818904e-04 -2.08167883e-04\n",
      "  -1.62412791e-04  2.82061374e-04 -1.47291459e-04  1.76100642e-04\n",
      "   9.52789123e-05  6.86399755e-04 -4.23167294e-05  3.25762085e-04]]\n",
      "-----------------\n",
      "Xi_tr_tr_ell [[ 5.67804565e+02  5.94704723e+00  1.12641754e+01  4.89292526e+00\n",
      "   4.39418554e+00  3.35689330e+00  1.93282282e+00  1.70429122e+00\n",
      "   1.25721204e+00  1.01336491e+00  1.06935859e+00  6.73918486e-01\n",
      "   7.00731397e-01  5.38645566e-01  5.26220202e-01  4.70000774e-01\n",
      "   3.70310307e-01  3.57280701e-01  2.91678458e-01  2.80189276e-01\n",
      "   2.42623746e-01  2.25655690e-01  2.02425808e-01  1.83260962e-01\n",
      "   1.66373804e-01  1.53441995e-01  1.38737962e-01  1.31566927e-01\n",
      "   1.13809772e-01  1.06808543e-01  9.65587869e-02  9.07704383e-02\n",
      "   8.37767646e-02  7.73065165e-02  7.21208230e-02  6.66912869e-02\n",
      "   6.10545613e-02  5.78598864e-02  5.39069176e-02  4.95493300e-02\n",
      "   4.50180545e-02  4.26617935e-02  4.04118709e-02  3.66436094e-02\n",
      "   3.47517766e-02  3.18744145e-02  3.04508023e-02  2.78661903e-02\n",
      "   2.54896339e-02  2.40797531e-02  2.21806318e-02  2.11219005e-02\n",
      "   1.99350640e-02  1.92130059e-02  1.83011387e-02  1.68168433e-02\n",
      "   1.57822855e-02  1.48644960e-02  1.41042573e-02  1.33283827e-02\n",
      "   1.24049904e-02  1.17661208e-02  1.07556637e-02  9.94107686e-03\n",
      "   9.27762687e-03  8.60381406e-03  8.11216421e-03  7.77486619e-03\n",
      "   7.40198418e-03  6.71257824e-03  6.54672319e-03  5.98859834e-03\n",
      "   5.50272036e-03  4.96783061e-03  4.63686837e-03  4.42649238e-03\n",
      "   3.88729759e-03  3.81292845e-03  3.80201871e-03  3.59028508e-03\n",
      "   3.35238199e-03  3.54835624e-03  2.97290972e-03  3.04340059e-03\n",
      "   3.23484605e-03  3.22080869e-03  3.15581867e-03  3.06872744e-03\n",
      "   3.37792281e-03  3.42157693e-03  3.91686941e-03  3.70368687e-03\n",
      "   4.15522605e-03  4.45002411e-03  4.43674996e-03  4.18378599e-03\n",
      "   4.37284634e-03  4.35555074e-03  4.50357702e-03  4.10003122e-03\n",
      "   4.34384309e-03  4.24863165e-03  4.05137613e-03  3.70508293e-03\n",
      "   4.03598696e-03  3.58724478e-03  3.35249165e-03  3.03170527e-03\n",
      "   2.89290817e-03  3.05230403e-03  2.69067148e-03  2.40770169e-03\n",
      "   2.00676476e-03  1.71112537e-03  1.44241634e-03  1.31626183e-03\n",
      "   9.22778039e-04  6.90402638e-04  6.48868852e-04  6.92241534e-04\n",
      "   2.98012514e-04  3.08315386e-04  1.63962002e-04  5.98005772e-06\n",
      "   5.04182317e-05 -2.28912118e-04 -3.60971608e-04 -3.73568968e-04\n",
      "  -2.49093224e-04 -4.67764883e-04 -6.34220894e-04 -5.10259124e-04\n",
      "  -6.15170284e-04 -7.80072529e-04 -7.78953428e-04 -8.42023990e-04\n",
      "  -9.81913996e-04 -1.11174071e-03 -1.13516930e-03 -9.40344995e-04\n",
      "  -1.02192746e-03 -1.14875578e-03 -1.20505271e-03 -1.13156543e-03\n",
      "  -1.07283168e-03 -1.08832924e-03 -1.11587904e-03 -1.05038926e-03\n",
      "  -9.74207767e-04 -1.13804080e-03 -1.03561801e-03 -1.13564963e-03\n",
      "  -1.22802716e-03 -1.32660475e-03 -1.13211619e-03 -1.04064133e-03\n",
      "  -1.35211495e-03 -1.09951047e-03 -1.04413938e-03 -1.12857227e-03\n",
      "  -1.06846751e-03 -1.06939534e-03 -9.91793699e-04 -1.16995873e-03\n",
      "  -8.73558514e-04 -8.78333929e-04 -9.39206686e-04 -8.59093445e-04\n",
      "  -5.94635960e-04 -6.55411335e-04 -6.58258912e-04 -5.42860245e-04\n",
      "  -5.51371020e-04 -5.41480025e-04 -7.33422930e-04 -6.29575748e-04\n",
      "  -5.98960498e-04 -6.16271340e-04 -4.48691164e-04 -4.40784905e-04\n",
      "  -5.04874217e-04 -4.98677255e-04 -2.62689573e-04 -2.39965477e-04\n",
      "  -3.45813722e-04 -2.45211122e-04 -3.70649272e-04 -3.55529599e-04\n",
      "  -5.10940794e-04 -4.22450248e-04 -2.72249395e-04 -3.06581613e-04\n",
      "  -2.48010299e-04 -2.23411131e-04 -3.27659596e-04 -2.40644309e-04\n",
      "  -2.95258884e-04 -3.94404255e-04 -2.57974432e-04 -3.11595562e-04]\n",
      " [-1.41951147e+03  1.43479538e+01  2.40007743e-01  3.02864814e+00\n",
      "  -3.05887431e-01  8.59410226e-01  1.89959750e-01 -3.67317200e-01\n",
      "  -3.88569050e-02 -3.89557004e-01 -2.35223755e-01 -2.98011154e-01\n",
      "  -2.49972820e-01 -2.19261318e-01 -2.67612249e-01 -1.95313781e-01\n",
      "  -2.10883692e-01 -1.83044136e-01 -1.69838503e-01 -1.68904975e-01\n",
      "  -1.41741216e-01 -1.55425757e-01 -1.26588345e-01 -1.21923551e-01\n",
      "  -1.19019896e-01 -1.07647419e-01 -1.08377218e-01 -9.18817073e-02\n",
      "  -9.47911963e-02 -8.79687667e-02 -7.83698559e-02 -8.02088752e-02\n",
      "  -7.23534375e-02 -7.39127919e-02 -6.51626289e-02 -6.64566755e-02\n",
      "  -6.07209429e-02 -5.56456521e-02 -5.62836565e-02 -4.95497175e-02\n",
      "  -5.06986715e-02 -4.47068401e-02 -4.62223254e-02 -4.39415686e-02\n",
      "  -4.04127538e-02 -4.11746353e-02 -3.71230692e-02 -3.66518609e-02\n",
      "  -3.41016166e-02 -3.33665721e-02 -3.26948762e-02 -3.00897062e-02\n",
      "  -3.06145288e-02 -2.86679119e-02 -2.76957136e-02 -2.63933130e-02\n",
      "  -2.51247063e-02 -2.47441195e-02 -2.27070190e-02 -2.34568920e-02\n",
      "  -2.12875884e-02 -2.24440061e-02 -2.08630096e-02 -1.95718538e-02\n",
      "  -2.01017335e-02 -1.84092131e-02 -1.91150084e-02 -1.75488442e-02\n",
      "  -1.76747348e-02 -1.77935697e-02 -1.66951641e-02 -1.65970512e-02\n",
      "  -1.50198610e-02 -1.59687363e-02 -1.49861164e-02 -1.44911176e-02\n",
      "  -1.42357880e-02 -1.33086918e-02 -1.30826160e-02 -1.35324709e-02\n",
      "  -1.27158640e-02 -1.15661556e-02 -1.08616380e-02 -1.13407159e-02\n",
      "  -1.06484983e-02 -1.08047714e-02 -1.03207529e-02 -9.63021256e-03\n",
      "  -9.29478277e-03 -9.21133347e-03 -9.36684664e-03 -8.72382149e-03\n",
      "  -8.97989422e-03 -7.90395960e-03 -7.62224710e-03 -7.62392813e-03\n",
      "  -7.79716298e-03 -7.83764664e-03 -7.09605077e-03 -6.70178700e-03\n",
      "  -6.29152684e-03 -6.03430998e-03 -6.04536850e-03 -5.84297022e-03\n",
      "  -5.34328818e-03 -5.66883059e-03 -5.15773939e-03 -4.92680725e-03\n",
      "  -5.10777533e-03 -4.84873494e-03 -5.04221534e-03 -4.66652960e-03\n",
      "  -4.48043458e-03 -4.67916671e-03 -4.06949408e-03 -4.33736201e-03\n",
      "  -4.36395919e-03 -4.38930048e-03 -4.20097122e-03 -4.11110325e-03\n",
      "  -3.64195532e-03 -3.98350880e-03 -3.53331701e-03 -4.15537693e-03\n",
      "  -4.37341351e-03 -3.77540989e-03 -3.76985176e-03 -3.93652869e-03\n",
      "  -3.32354638e-03 -3.40247783e-03 -3.78433382e-03 -3.89229902e-03\n",
      "  -3.60322767e-03 -3.24014830e-03 -3.58057045e-03 -3.60818626e-03\n",
      "  -3.27438442e-03 -2.68536271e-03 -2.82609020e-03 -2.97673303e-03\n",
      "  -2.74623604e-03 -3.18323984e-03 -2.53590662e-03 -2.61133490e-03\n",
      "  -2.62860605e-03 -2.40134099e-03 -2.58951331e-03 -2.58405507e-03\n",
      "  -2.40591518e-03 -2.63698236e-03 -2.32112408e-03 -2.58090068e-03\n",
      "  -2.16548727e-03 -2.30221939e-03 -2.11034925e-03 -2.48000282e-03\n",
      "  -2.51499889e-03 -2.16540485e-03 -1.78335316e-03 -2.28792848e-03\n",
      "  -2.04396737e-03 -2.01923284e-03 -2.17706244e-03 -1.99592649e-03\n",
      "  -1.98333664e-03 -1.94433902e-03 -1.90583849e-03 -1.77330594e-03\n",
      "  -1.75337237e-03 -1.78399088e-03 -1.61616830e-03 -1.44386210e-03\n",
      "  -1.35074928e-03 -1.18359982e-03 -1.61367585e-03 -1.15062646e-03\n",
      "  -1.35231751e-03 -1.29498972e-03 -1.49825320e-03 -1.69231952e-03\n",
      "  -1.28913915e-03 -1.29331101e-03 -1.15741836e-03 -9.72400128e-04\n",
      "  -1.60354190e-03 -1.18565361e-03 -1.61403429e-03 -9.76335490e-04\n",
      "  -1.13573764e-03 -9.25822591e-04 -1.25883846e-03 -8.89067363e-04\n",
      "  -1.16338197e-03 -7.24208832e-04 -8.35112412e-04 -6.50137896e-04\n",
      "  -7.07589614e-04 -7.08061270e-04 -4.68779588e-04 -6.97355892e-04]\n",
      " [ 1.91634033e+03  4.19829559e+01 -1.52342463e+01  1.11195431e+01\n",
      "  -5.37459707e+00  4.72850466e+00  1.15419865e+00  1.08408824e-01\n",
      "   7.19467878e-01 -1.51090801e-01  6.68500602e-01 -1.87418222e-01\n",
      "   1.83238596e-01  2.33427659e-02  2.07071692e-01  4.36470918e-02\n",
      "   3.59037258e-02  5.99473305e-02 -2.82243248e-02  9.14606079e-02\n",
      "  -3.69528010e-02  8.35924074e-02 -1.14808986e-02  1.49501311e-02\n",
      "   3.05589382e-02 -5.47560211e-03  3.26123647e-02  3.73420026e-03\n",
      "   2.18383875e-02  1.21674323e-02 -2.47264630e-03  1.25799999e-02\n",
      "  -1.08290906e-03  1.71692763e-02  3.49652092e-03  1.18362224e-02\n",
      "   9.49754659e-03 -1.47559179e-03  1.47982389e-02  4.50699357e-03\n",
      "   7.50767905e-03  3.40290251e-03  7.78195541e-03  5.63314185e-03\n",
      "   1.30052387e-03  7.95407034e-03  3.43245012e-03  5.56114735e-03\n",
      "   2.74008303e-03  3.93521087e-03  4.42020595e-03  2.43318756e-03\n",
      "   5.23177721e-03  3.03414580e-03  5.37324743e-03  4.85127466e-03\n",
      "   4.08749469e-03  3.07550118e-03  2.44281860e-03  4.57500340e-03\n",
      "   3.01002664e-03  1.74659048e-03  2.41412688e-03  1.09495525e-03\n",
      "   1.04688352e-03  4.81519295e-04  2.13927822e-03  1.19013200e-03\n",
      "   1.89327972e-03  3.00932763e-04  1.88378547e-03  1.00947975e-03\n",
      "   1.28503377e-03  6.13067023e-05  1.53029407e-03  1.92336563e-04\n",
      "   2.50873622e-04  2.00424320e-03  1.02839665e-03  1.42665696e-03\n",
      "   7.97421497e-04  1.74335809e-03  1.78061484e-03  1.11165154e-03\n",
      "   1.39304192e-03  1.44556467e-03  8.52206664e-04  4.51262720e-04\n",
      "   7.72854721e-04  9.38539044e-04  1.78527739e-03  4.14608570e-04\n",
      "   8.40591092e-04  9.01113031e-04  3.80133934e-05  9.39070771e-04\n",
      "   1.17878860e-03  8.78724677e-04  1.86018890e-03  1.36277499e-03\n",
      "   8.03015078e-04  1.99697074e-03  8.59517546e-04  1.47066964e-03\n",
      "   1.90729450e-03  1.86996732e-03  2.14546476e-03  1.90772116e-03\n",
      "   2.36807414e-03  1.92840875e-03  1.49515993e-03  1.69387413e-03\n",
      "   1.90807122e-03  1.87976379e-03  1.49902049e-03  2.01818068e-03\n",
      "   1.57362397e-03  1.71582657e-03  1.22848339e-03  1.90901372e-03\n",
      "   1.25981739e-03  1.57210580e-03  1.69532211e-03  1.44753989e-03\n",
      "   1.70702278e-03  1.18622265e-03  2.20339745e-03  1.60259625e-03\n",
      "   1.34837255e-03  2.22320133e-03  2.00909423e-03  1.60687184e-03\n",
      "   1.78808661e-03  1.65269000e-03  1.05227216e-03  1.58612675e-03\n",
      "   1.83067634e-03  1.51418627e-03  1.41120818e-03  1.09825400e-03\n",
      "   8.71823460e-04  1.16902927e-03  1.05729257e-03  1.18406420e-03\n",
      "   9.18639533e-04  6.73773058e-04  7.57112459e-04  5.49705692e-05\n",
      "   5.10876009e-04  9.63009097e-06 -8.49394200e-05 -1.85049779e-04\n",
      "   7.48939274e-05 -5.26244577e-04  1.46305058e-04  1.15383307e-04\n",
      "   1.14320996e-04  3.51356321e-05 -1.64065263e-04  1.41506840e-04\n",
      "   3.94703500e-04  3.10987205e-04  1.27419597e-04 -7.32011453e-04\n",
      "   1.42063451e-04 -2.90780212e-04 -7.13157206e-05 -3.37583224e-05\n",
      "  -4.39980329e-04 -2.38554363e-04 -2.17027758e-04 -3.96001153e-04\n",
      "  -1.62796685e-04  6.93462644e-05 -1.79029041e-04  2.04519296e-04\n",
      "  -5.31000376e-04 -5.96180558e-04 -2.71147874e-04 -4.28654690e-04\n",
      "  -8.80047854e-04 -3.52304342e-04 -6.79392309e-04 -3.72500566e-04\n",
      "  -7.42430158e-04 -2.76463310e-04 -6.99442811e-04 -9.36777156e-04\n",
      "  -4.81308700e-04 -4.43476951e-04 -8.48836673e-04 -7.64806056e-04\n",
      "  -7.25782593e-04 -2.22351911e-04 -6.33356860e-04 -3.48202564e-04\n",
      "  -3.83696752e-04  1.35961527e-04 -5.63379203e-04 -2.33353989e-04]]\n",
      "-----------------\n"
     ]
    }
   ],
   "source": [
    "# Run zcv on the correlation function multipoles\n",
    "zcv_dict_xi = newBall.apply_zcv_xi(mock_dict, config, load_presaved=load_presaved)\n",
    "print(zcv_dict_xi.keys())\n",
    "for key in zcv_dict_xi.keys():\n",
    "    if \"Xi\" in key:\n",
    "        print(key, zcv_dict_xi[key])\n",
    "        print(\"-----------------\")"
   ]
  },
  {
   "cell_type": "code",
   "execution_count": 48,
   "metadata": {},
   "outputs": [
    {
     "name": "stdout",
     "output_type": "stream",
     "text": [
      "zeros in the measured power spectra =  0 6912 1728\n",
      "zeros in the measured power spectra =  0 20736 5184\n",
      "bias [1.00000000e+00 1.02062796e+00 3.83866013e+03]\n",
      "dict_keys(['k_binc', 'poles', 'rho_tr_ZD', 'rho_tr_ZD_sn_lim', 'Pk_ZD_ZD_ell', 'Pk_tr_ZD_ell', 'Pk_tr_tr_ell', 'Nk_tr_tr_ell', 'Pk_tr_tr_ell_zcv', 'Pk_ZD_ZD_ell_ZeNBu', 'bias'])\n",
      "Pk_ZD_ZD_ell [[ 6.61209072e+04  5.15882902e+04  6.06604379e+04 ...  4.46386236e+01\n",
      "   4.44658570e+01  4.43049105e+01]\n",
      " [ 3.07680768e+05 -1.52977565e+04  2.27121643e+04 ... -2.47642593e+01\n",
      "  -2.47429206e+01 -2.47493147e+01]\n",
      " [ 5.77895324e+05 -1.50934003e+04 -2.17783389e+04 ...  1.13026438e+01\n",
      "   1.13049315e+01  1.14098261e+01]]\n",
      "-----------------\n",
      "Pk_tr_ZD_ell [[ 6.66225305e+04  5.61140148e+04  6.12620605e+04 ...  6.19922165e+01\n",
      "   6.15811468e+01  6.09524693e+01]\n",
      " [ 3.09119368e+05 -1.86979461e+04  2.10227537e+04 ... -9.48749266e+01\n",
      "  -9.40722277e+01 -9.39108173e+01]\n",
      " [ 5.81607840e+05 -1.17529555e+04 -1.73048867e+04 ...  6.41961061e+01\n",
      "   6.31890558e+01  6.27674313e+01]]\n",
      "-----------------\n",
      "Pk_tr_tr_ell [[[ 6.73779062e+04  6.25396562e+04  6.35583477e+04 ...  2.84944312e+03\n",
      "    2.84567114e+03  2.84463599e+03]\n",
      "  [ 3.09959281e+05 -2.26083672e+04  1.91925352e+04 ... -1.02114372e+02\n",
      "   -1.03184769e+02 -9.09425964e+01]\n",
      "  [ 5.86203375e+05 -1.06885664e+04 -1.34291240e+04 ...  1.77574631e+02\n",
      "    1.63100616e+02  1.59360535e+02]]]\n",
      "-----------------\n",
      "Pk_tr_tr_ell_zcv [[ 8.37532393e+09  8.36917910e+09  8.35074876e+09 ...  3.13981204e+03\n",
      "   3.12251081e+03  3.11792034e+03]\n",
      " [-4.18368104e+09 -1.73274376e+06 -5.20901207e+06 ... -4.16603228e+02\n",
      "  -4.04580924e+02 -3.79755710e+02]\n",
      " [ 3.13894998e+09 -4.37946171e+08 -1.90398833e+08 ...  3.22894072e+02\n",
      "   3.02415142e+02  2.93165510e+02]]\n",
      "-----------------\n",
      "Pk_ZD_ZD_ell_ZeNBu [[ 8.36784534e+09  8.35909472e+09  8.34296216e+09 ...  1.46311686e+08\n",
      "   1.45088454e+08  1.48990119e+08]\n",
      " [-4.18392267e+09 -1.72373545e+06 -5.19912531e+06 ... -1.51967289e+08\n",
      "  -1.51472331e+08 -1.50989069e+08]\n",
      " [ 3.13794212e+09 -4.37479500e+08 -1.90196996e+08 ...  8.56436634e+07\n",
      "   8.53936244e+07  8.53079447e+07]]\n",
      "-----------------\n"
     ]
    }
   ],
   "source": [
    "# Run zcv on the power spectrum multipoles\n",
    "zcv_dict = newBall.apply_zcv(mock_dict, config, load_presaved=load_presaved)\n",
    "print(zcv_dict.keys())\n",
    "for key in zcv_dict.keys():\n",
    "    if \"Pk\" in key:\n",
    "        print(key, zcv_dict[key])\n",
    "        print(\"-----------------\")"
   ]
  },
  {
   "cell_type": "code",
   "execution_count": 34,
   "metadata": {},
   "outputs": [],
   "source": [
    "# Parse the output from the ZCV-reduced power spectrum measurements\n",
    "k_binc = zcv_dict['k_binc']\n",
    "pk_nn_betasmooth = zcv_dict['Pk_tr_tr_ell_zcv']\n",
    "pk_tt_poles = zcv_dict['Pk_tr_tr_ell']\n",
    "pk_zz = zcv_dict['Pk_ZD_ZD_ell']\n",
    "pk_zn = zcv_dict['Pk_tr_ZD_ell']\n",
    "r_zt = zcv_dict['rho_tr_ZD']\n",
    "pk_zenbu = zcv_dict['Pk_ZD_ZD_ell_ZeNBu']"
   ]
  },
  {
   "cell_type": "markdown",
   "metadata": {},
   "source": [
    "Plot the ZCV reduction on the power spectrum."
   ]
  },
  {
   "cell_type": "code",
   "execution_count": 71,
   "metadata": {},
   "outputs": [
    {
     "data": {
      "text/plain": [
       "<matplotlib.legend.Legend at 0x7f176c9b8210>"
      ]
     },
     "execution_count": 71,
     "metadata": {},
     "output_type": "execute_result"
    },
    {
     "data": {
      "image/png": "[encoded data removed]",
      "text/plain": [
       "<Figure size 864x360 with 3 Axes>"
      ]
     },
     "metadata": {
      "needs_background": "light"
     },
     "output_type": "display_data"
    }
   ],
   "source": [
    "# Set up the canvas\n",
    "if want_rsd:\n",
    "    figsize = (12, 5)\n",
    "    n_ell = 3\n",
    "else:\n",
    "    figsize = (6, 5)\n",
    "    n_ell = 1\n",
    "f, ax = plt.subplots(1, n_ell, sharex=True, sharey=True, figsize=figsize)\n",
    "if not want_rsd:\n",
    "    ax = [ax]\n",
    "    \n",
    "# Loop over all multipoles\n",
    "for ell in range(n_ell):\n",
    "    \n",
    "    if want_rsd:\n",
    "        pk_zz_ell = pk_zz[ell, :].flatten()\n",
    "        pk_zenbu_ell = pk_zenbu[ell, :].flatten()\n",
    "        pk_tt_poles_ell = pk_tt_poles[0, ell, :]\n",
    "        pk_nn_betasmooth_ell = pk_nn_betasmooth[ell, :]\n",
    "    else:\n",
    "        pk_zz_ell = pk_zz.flatten()\n",
    "        pk_zenbu_ell = pk_zenbu.flatten()\n",
    "        pk_tt_poles_ell = pk_tt_poles.flatten()\n",
    "        pk_nn_betasmooth_ell = pk_nn_betasmooth.flatten()\n",
    "        \n",
    "    ax[ell].plot(k_binc, k_binc * pk_tt_poles_ell, label='Measured tracer power')\n",
    "    ax[ell].plot(k_binc, k_binc * pk_zz_ell, label='IC,IC')\n",
    "    ax[ell].plot(k_binc, k_binc * pk_nn_betasmooth_ell, label='Reduced tracer power')\n",
    "    #ax[ell].plot(k_binc, k_binc * pk_zenbu_ell, label='ZeNBu fitted power')\n",
    "    \n",
    "    if ell == 0:\n",
    "        ax[ell].set_ylabel(r\"$k P(k)$\")\n",
    "    ax[ell].set_xlabel(r\"$k \\ [h/{\\rm Mpc}]$\")\n",
    "plt.xscale('log')\n",
    "plt.legend()\n"
   ]
  },
  {
   "cell_type": "code",
   "execution_count": 16,
   "metadata": {},
   "outputs": [
    {
     "data": {
      "text/plain": [
       "array([[0.99943046, 0.97486897, 0.97313284, ..., 0.0463843 , 0.04588944,\n",
       "        0.04537755],\n",
       "       [0.99955306, 0.98515638, 0.9776689 , ..., 0.0447994 , 0.04431818,\n",
       "        0.04375052],\n",
       "       [0.99947541, 0.97626862, 0.97607613, ..., 0.03580631, 0.03542882,\n",
       "        0.03493479]])"
      ]
     },
     "execution_count": 16,
     "metadata": {},
     "output_type": "execute_result"
    }
   ],
   "source": [
    "zcv_dict['rho_tr_ZD']"
   ]
  },
  {
   "cell_type": "code",
   "execution_count": 29,
   "metadata": {},
   "outputs": [
    {
     "data": {
      "text/plain": [
       "array([[ 6.61208758e+04,  5.15882601e+04,  6.06604036e+04, ...,\n",
       "         4.46385875e+01,  4.44658210e+01,  4.43048746e+01],\n",
       "       [ 3.07680626e+05, -1.52977423e+04,  2.27121587e+04, ...,\n",
       "        -2.47642369e+01, -2.47428981e+01, -2.47492924e+01],\n",
       "       [ 5.77895053e+05, -1.50933957e+04, -2.17783298e+04, ...,\n",
       "         1.13026320e+01,  1.13049198e+01,  1.14098143e+01]])"
      ]
     },
     "execution_count": 29,
     "metadata": {},
     "output_type": "execute_result"
    }
   ],
   "source": [
    "pk_zz"
   ]
  },
  {
   "cell_type": "code",
   "execution_count": 37,
   "metadata": {},
   "outputs": [
    {
     "data": {
      "text/plain": [
       "dict_keys(['LRG'])"
      ]
     },
     "execution_count": 37,
     "metadata": {},
     "output_type": "execute_result"
    }
   ],
   "source": [
    "mock_dict.keys()"
   ]
  },
  {
   "cell_type": "code",
   "execution_count": 41,
   "metadata": {},
   "outputs": [
    {
     "data": {
      "text/plain": [
       "dict_keys(['Ncent', 'x', 'y', 'z', 'vx', 'vy', 'vz', 'mass', 'id'])"
      ]
     },
     "execution_count": 41,
     "metadata": {},
     "output_type": "execute_result"
    }
   ],
   "source": [
    "mock_dict['LRG'].keys()"
   ]
  },
  {
   "cell_type": "code",
   "execution_count": 42,
   "metadata": {},
   "outputs": [
    {
     "data": {
      "text/plain": [
       "27000000.0"
      ]
     },
     "execution_count": 42,
     "metadata": {},
     "output_type": "execute_result"
    }
   ],
   "source": [
    "9*3e6"
   ]
  },
  {
   "cell_type": "code",
   "execution_count": 45,
   "metadata": {},
   "outputs": [
    {
     "data": {
      "text/plain": [
       "216000000.0"
      ]
     },
     "execution_count": 45,
     "metadata": {},
     "output_type": "execute_result"
    }
   ],
   "source": [
    "mock_dict['LRG']['x'].itemsize*27000000.0"
   ]
  },
  {
   "cell_type": "code",
   "execution_count": 46,
   "metadata": {},
   "outputs": [
    {
     "data": {
      "text/plain": [
       "0.216"
      ]
     },
     "execution_count": 46,
     "metadata": {},
     "output_type": "execute_result"
    }
   ],
   "source": [
    "216000000.0/1.e9"
   ]
  },
  {
   "cell_type": "code",
   "execution_count": 62,
   "metadata": {},
   "outputs": [
    {
     "data": {
      "image/png": "[encoded data removed]",
      "text/plain": [
       "<Figure size 1008x432 with 3 Axes>"
      ]
     },
     "metadata": {
      "needs_background": "light"
     },
     "output_type": "display_data"
    }
   ],
   "source": [
    "nmesh = 1152\n",
    "want_bin = False\n",
    "cs = ['k', 'c', 'm', 'y']\n",
    "\n",
    "r_binc = zcv_dict_xi['r_binc']\n",
    "xi = zcv_dict_xi['Xi_tr_tr_ell_zcv'].reshape(3, len(r_binc))#*nmesh**3\n",
    "xi_raw = zcv_dict_xi['Xi_tr_tr_ell'].reshape(3, len(r_binc))#*nmesh**3\n",
    "\n",
    "def weight(r, rp=50., Delta_r=5.):\n",
    "    w = (1.-np.tanh((r-rp)/Delta_r))*0.5\n",
    "    return w\n",
    "\n",
    "r_bins = np.linspace(0, 200, 101)\n",
    "\n",
    "# plot crap\n",
    "n_ell = 3\n",
    "figsize = (14, 6)\n",
    "f, ax = plt.subplots(1, n_ell, sharex=True, sharey=True, figsize=figsize)\n",
    "for ell in range(n_ell):\n",
    "    w_ell = weight(r_binc)\n",
    "    xi_ell_comb = (1.-w_ell)*xi[ell] + w_ell*xi[ell]\n",
    "    xi_raw_ell_comb = (1.-w_ell)*xi_raw[ell] + w_ell*xi_raw[ell]\n",
    "\n",
    "    if want_bin:\n",
    "        r_bins_c, xi_ell_comb = bin_mat(r_binc, xi_ell_comb, r_bins)\n",
    "        r_bins_c, xi_raw_ell_comb = bin_mat(r_binc, xi_raw_ell_comb, r_bins)\n",
    "    else:\n",
    "        r_bins_c = r_binc\n",
    "\n",
    "    #ax[ell].plot(r_bins_c, xi_raw_ell_comb*r_bins_c**2, color=cs[0], label=r'${\\rm Raw + Corrfunc} (r < 50)$')\n",
    "    #ax[ell].plot(r_bins_c, xi_ell_comb*r_bins_c**2, color=cs[1], label=r'${\\rm CV + Corrfunc} (r < 50)$')#'IFFT[P(k)] CV + Corrfunc (r < 50)')\n",
    "    #ax[ell].plot(r_bins_c, xi_corrfunc[ell]*r_bins_c**2, color=cs[2], label=r'${\\rm Raw \\ Corrfunc}$')\n",
    "\n",
    "    ax[ell].plot(r_binc, xi[ell]*r_binc**2, label='FT[P(k)] CV')\n",
    "    ax[ell].plot(r_binc, xi_raw[ell]*r_binc**2, label='FT[P(k)] Raw')\n",
    "    #ax[ell].plot(r_binc_corrfunc, xi_corrfunc[ell]*r_binc_corrfunc**2, label='Corrfunc')\n",
    "    ax[ell].set_xlabel(r\"$r \\ [{\\rm Mpc}/h]$\")\n",
    "    if ell == 0:\n",
    "        ax[ell].set_ylabel(r\"$\\xi_\\ell(r) \\  r^2 \\ [{\\rm Mpc}/h]$\")\n",
    "plt.legend(fontsize=16)\n",
    "plt.ylim([-100, 100])\n",
    "plt.xlim([1, 200])\n",
    "plt.savefig(\"corr.png\", bbox_inches='tight', pad_inches=0.03)\n",
    "plt.show()\n",
    "\n"
   ]
  },
  {
   "cell_type": "code",
   "execution_count": 65,
   "metadata": {},
   "outputs": [
    {
     "data": {
      "text/plain": [
       "dict_keys(['k_binc', 'poles', 'rho_tr_ZD', 'Pk_ZD_ZD_ell', 'Pk_tr_ZD_ell', 'Pk_tr_tr_ell', 'Nk_tr_tr_ell', 'Pk_tr_tr_ell_zcv', 'Pk_ZD_ZD_ell_ZeNBu', 'bias', 'Xi_tr_tr_ell_zcv', 'Xi_tr_tr_ell', 'Np_tr_tr_ell', 'r_binc'])"
      ]
     },
     "execution_count": 65,
     "metadata": {},
     "output_type": "execute_result"
    }
   ],
   "source": [
    "zcv_dict_xi.keys()"
   ]
  },
  {
   "cell_type": "code",
   "execution_count": 67,
   "metadata": {},
   "outputs": [
    {
     "data": {
      "text/plain": [
       "array([3.5873456e-06, 6.8672712e-06, 7.6555270e-06, 8.5605261e-06,\n",
       "       9.4089100e-06, 9.5427295e-06, 9.2929868e-06, 8.8304550e-06,\n",
       "       8.3213672e-06, 7.4294217e-06], dtype=float32)"
      ]
     },
     "execution_count": 67,
     "metadata": {},
     "output_type": "execute_result"
    }
   ],
   "source": [
    "zcv_dict_xi['Pk_tr_tr_ell_zcv'][0, :10]"
   ]
  },
  {
   "cell_type": "code",
   "execution_count": 69,
   "metadata": {},
   "outputs": [
    {
     "data": {
      "text/plain": [
       "array([8.4222393e-06, 7.8174571e-06, 7.9447937e-06, 7.8886687e-06,\n",
       "       1.0430798e-05, 9.1597094e-06, 9.4689331e-06, 8.6397868e-06,\n",
       "       8.0171831e-06, 7.4086192e-06], dtype=float32)"
      ]
     },
     "execution_count": 69,
     "metadata": {},
     "output_type": "execute_result"
    }
   ],
   "source": [
    "zcv_dict_xi['Pk_tr_tr_ell'][0, 0, :10]"
   ]
  },
  {
   "cell_type": "code",
   "execution_count": 70,
   "metadata": {},
   "outputs": [],
   "source": [
    "# Parse the output from the ZCV-reduced power spectrum measurements\n",
    "k_binc = zcv_dict_xi['k_binc']\n",
    "pk_nn_betasmooth = zcv_dict_xi['Pk_tr_tr_ell_zcv']\n",
    "pk_tt_poles = zcv_dict_xi['Pk_tr_tr_ell']\n",
    "pk_zz = zcv_dict_xi['Pk_ZD_ZD_ell']\n",
    "pk_zn = zcv_dict_xi['Pk_tr_ZD_ell']\n",
    "r_zt = zcv_dict_xi['rho_tr_ZD']\n",
    "pk_zenbu = zcv_dict_xi['Pk_ZD_ZD_ell_ZeNBu']"
   ]
  },
  {
   "cell_type": "code",
   "execution_count": null,
   "metadata": {},
   "outputs": [],
   "source": []
  }
 ],
 "metadata": {
  "kernelspec": {
   "display_name": "desc",
   "language": "python",
   "name": "desc"
  },
  "language_info": {
   "codemirror_mode": {
    "name": "ipython",
    "version": 3
   },
   "file_extension": ".py",
   "mimetype": "text/x-python",
   "name": "python",
   "nbconvert_exporter": "python",
   "pygments_lexer": "ipython3",
   "version": "3.7.6"
  }
 },
 "nbformat": 4,
 "nbformat_minor": 4
}
